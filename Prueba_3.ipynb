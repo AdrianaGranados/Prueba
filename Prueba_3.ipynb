{
  "cells": [
    {
      "cell_type": "code",
      "execution_count": 3,
      "metadata": {
        "colab": {
          "base_uri": "https://localhost:8080/",
          "height": 17
        },
        "id": "Qt9BbzSp_t81",
        "outputId": "1da9ce12-435d-4872-feeb-a5cdc6bd4abb"
      },
      "outputs": [
        {
          "output_type": "display_data",
          "data": {
            "text/html": [
              "        <script type=\"text/javascript\">\n",
              "        window.PlotlyConfig = {MathJaxConfig: 'local'};\n",
              "        if (window.MathJax) {MathJax.Hub.Config({SVG: {font: \"STIX-Web\"}});}\n",
              "        if (typeof require !== 'undefined') {\n",
              "        require.undef(\"plotly\");\n",
              "        requirejs.config({\n",
              "            paths: {\n",
              "                'plotly': ['https://cdn.plot.ly/plotly-2.8.3.min']\n",
              "            }\n",
              "        });\n",
              "        require(['plotly'], function(Plotly) {\n",
              "            window._Plotly = Plotly;\n",
              "        });\n",
              "        }\n",
              "        </script>\n",
              "        "
            ]
          },
          "metadata": {}
        }
      ],
      "source": [
        "import pandas as pd # Manejo de data estructurada (Dataframe)\n",
        "import numpy as np #Manejo de matrices\n",
        "import matplotlib as plt \n",
        "plt.style.use('fivethirtyeight')\n",
        "%matplotlib inline \n",
        "import seaborn as sns\n",
        "import plotly as plotly                # Interactive Graphing Library for Python\n",
        "import plotly.express as px\n",
        "import plotly.graph_objects as go\n",
        "from plotly.offline import init_notebook_mode, iplot, plot\n",
        "init_notebook_mode(connected=True)"
      ]
    },
    {
      "cell_type": "code",
      "execution_count": 4,
      "metadata": {
        "colab": {
          "base_uri": "https://localhost:8080/"
        },
        "id": "nsAHw9OTUOau",
        "outputId": "04e0bbf5-8720-4371-fb17-39562e9bdfbd"
      },
      "outputs": [
        {
          "output_type": "stream",
          "name": "stderr",
          "text": [
            "/usr/local/lib/python3.7/dist-packages/IPython/core/interactiveshell.py:2882: DtypeWarning:\n",
            "\n",
            "Columns (11,14,15) have mixed types.Specify dtype option on import or set low_memory=False.\n",
            "\n"
          ]
        }
      ],
      "source": [
        "# Lectura de la base de datos desde Github en internet y asignación a la variable\n",
        "path = \"https://raw.githubusercontent.com/AdrianaGranados/Prueba/main/DataAirbnbLimpiezadatos2.csv\"\n",
        "airbnb = pd.read_csv(path)\n",
        " "
      ]
    },
    {
      "cell_type": "code",
      "execution_count": 5,
      "metadata": {
        "colab": {
          "base_uri": "https://localhost:8080/",
          "height": 461
        },
        "id": "S0ic6j9DcEZJ",
        "outputId": "0014781f-9fb2-41c8-b385-5e636470722b"
      },
      "outputs": [
        {
          "output_type": "execute_result",
          "data": {
            "text/html": [
              "\n",
              "  <div id=\"df-589d36f2-c4ec-4344-97c8-a1bad7b330b8\">\n",
              "    <div class=\"colab-df-container\">\n",
              "      <div>\n",
              "<style scoped>\n",
              "    .dataframe tbody tr th:only-of-type {\n",
              "        vertical-align: middle;\n",
              "    }\n",
              "\n",
              "    .dataframe tbody tr th {\n",
              "        vertical-align: top;\n",
              "    }\n",
              "\n",
              "    .dataframe thead th {\n",
              "        text-align: right;\n",
              "    }\n",
              "</style>\n",
              "<table border=\"1\" class=\"dataframe\">\n",
              "  <thead>\n",
              "    <tr style=\"text-align: right;\">\n",
              "      <th></th>\n",
              "      <th>id</th>\n",
              "      <th>name</th>\n",
              "      <th>host_id</th>\n",
              "      <th>host_name</th>\n",
              "      <th>neighbourhood_group</th>\n",
              "      <th>neighbourhood</th>\n",
              "      <th>latitude</th>\n",
              "      <th>longitude</th>\n",
              "      <th>room_type</th>\n",
              "      <th>price</th>\n",
              "      <th>minimum_nights</th>\n",
              "      <th>number_of_reviews</th>\n",
              "      <th>last_review</th>\n",
              "      <th>reviews_per_month</th>\n",
              "      <th>calculated_host_listings_count</th>\n",
              "      <th>availability_365</th>\n",
              "    </tr>\n",
              "  </thead>\n",
              "  <tbody>\n",
              "    <tr>\n",
              "      <th>0</th>\n",
              "      <td>2539</td>\n",
              "      <td>Clean &amp; quiet apt home by the park</td>\n",
              "      <td>2787</td>\n",
              "      <td>John</td>\n",
              "      <td>Brooklyn</td>\n",
              "      <td>Kensington</td>\n",
              "      <td>4.064.749</td>\n",
              "      <td>-7.397.237</td>\n",
              "      <td>Private room</td>\n",
              "      <td>149</td>\n",
              "      <td>1</td>\n",
              "      <td>9</td>\n",
              "      <td>19/10/2018</td>\n",
              "      <td>0.21</td>\n",
              "      <td>6.0</td>\n",
              "      <td>365</td>\n",
              "    </tr>\n",
              "    <tr>\n",
              "      <th>1</th>\n",
              "      <td>2595</td>\n",
              "      <td>Skylit Midtown Castle</td>\n",
              "      <td>2845</td>\n",
              "      <td>Jennifer</td>\n",
              "      <td>Manhattan</td>\n",
              "      <td>Midtown</td>\n",
              "      <td>4.075.362</td>\n",
              "      <td>-7.398.377</td>\n",
              "      <td>Entire home/apt</td>\n",
              "      <td>225</td>\n",
              "      <td>1</td>\n",
              "      <td>45</td>\n",
              "      <td>21/05/2019</td>\n",
              "      <td>0.38</td>\n",
              "      <td>2.0</td>\n",
              "      <td>355</td>\n",
              "    </tr>\n",
              "    <tr>\n",
              "      <th>2</th>\n",
              "      <td>3647</td>\n",
              "      <td>THE VILLAGE OF HARLEM....NEW YORK !</td>\n",
              "      <td>4632</td>\n",
              "      <td>Elisabeth</td>\n",
              "      <td>Manhattan</td>\n",
              "      <td>Harlem</td>\n",
              "      <td>4.080.902</td>\n",
              "      <td>-739.419</td>\n",
              "      <td>Private room</td>\n",
              "      <td>150</td>\n",
              "      <td>3</td>\n",
              "      <td>0</td>\n",
              "      <td>NaN</td>\n",
              "      <td>NaN</td>\n",
              "      <td>1.0</td>\n",
              "      <td>365</td>\n",
              "    </tr>\n",
              "    <tr>\n",
              "      <th>3</th>\n",
              "      <td>3831</td>\n",
              "      <td>Cozy Entire Floor of Brownstone</td>\n",
              "      <td>4869</td>\n",
              "      <td>LisaRoxanne</td>\n",
              "      <td>Brooklyn</td>\n",
              "      <td>Clinton Hill</td>\n",
              "      <td>4.068.514</td>\n",
              "      <td>-7.395.976</td>\n",
              "      <td>Entire home/apt</td>\n",
              "      <td>89</td>\n",
              "      <td>1</td>\n",
              "      <td>270</td>\n",
              "      <td>5/07/2019</td>\n",
              "      <td>4.64</td>\n",
              "      <td>1.0</td>\n",
              "      <td>194</td>\n",
              "    </tr>\n",
              "    <tr>\n",
              "      <th>4</th>\n",
              "      <td>5022</td>\n",
              "      <td>Entire Apt: Spacious Studio/Loft by central park</td>\n",
              "      <td>7192</td>\n",
              "      <td>Laura</td>\n",
              "      <td>Manhattan</td>\n",
              "      <td>East Harlem</td>\n",
              "      <td>4.079.851</td>\n",
              "      <td>-7.394.399</td>\n",
              "      <td>Entire home/apt</td>\n",
              "      <td>80</td>\n",
              "      <td>10</td>\n",
              "      <td>9</td>\n",
              "      <td>19/11/2018</td>\n",
              "      <td>0.10</td>\n",
              "      <td>1.0</td>\n",
              "      <td>0</td>\n",
              "    </tr>\n",
              "  </tbody>\n",
              "</table>\n",
              "</div>\n",
              "      <button class=\"colab-df-convert\" onclick=\"convertToInteractive('df-589d36f2-c4ec-4344-97c8-a1bad7b330b8')\"\n",
              "              title=\"Convert this dataframe to an interactive table.\"\n",
              "              style=\"display:none;\">\n",
              "        \n",
              "  <svg xmlns=\"http://www.w3.org/2000/svg\" height=\"24px\"viewBox=\"0 0 24 24\"\n",
              "       width=\"24px\">\n",
              "    <path d=\"M0 0h24v24H0V0z\" fill=\"none\"/>\n",
              "    <path d=\"M18.56 5.44l.94 2.06.94-2.06 2.06-.94-2.06-.94-.94-2.06-.94 2.06-2.06.94zm-11 1L8.5 8.5l.94-2.06 2.06-.94-2.06-.94L8.5 2.5l-.94 2.06-2.06.94zm10 10l.94 2.06.94-2.06 2.06-.94-2.06-.94-.94-2.06-.94 2.06-2.06.94z\"/><path d=\"M17.41 7.96l-1.37-1.37c-.4-.4-.92-.59-1.43-.59-.52 0-1.04.2-1.43.59L10.3 9.45l-7.72 7.72c-.78.78-.78 2.05 0 2.83L4 21.41c.39.39.9.59 1.41.59.51 0 1.02-.2 1.41-.59l7.78-7.78 2.81-2.81c.8-.78.8-2.07 0-2.86zM5.41 20L4 18.59l7.72-7.72 1.47 1.35L5.41 20z\"/>\n",
              "  </svg>\n",
              "      </button>\n",
              "      \n",
              "  <style>\n",
              "    .colab-df-container {\n",
              "      display:flex;\n",
              "      flex-wrap:wrap;\n",
              "      gap: 12px;\n",
              "    }\n",
              "\n",
              "    .colab-df-convert {\n",
              "      background-color: #E8F0FE;\n",
              "      border: none;\n",
              "      border-radius: 50%;\n",
              "      cursor: pointer;\n",
              "      display: none;\n",
              "      fill: #1967D2;\n",
              "      height: 32px;\n",
              "      padding: 0 0 0 0;\n",
              "      width: 32px;\n",
              "    }\n",
              "\n",
              "    .colab-df-convert:hover {\n",
              "      background-color: #E2EBFA;\n",
              "      box-shadow: 0px 1px 2px rgba(60, 64, 67, 0.3), 0px 1px 3px 1px rgba(60, 64, 67, 0.15);\n",
              "      fill: #174EA6;\n",
              "    }\n",
              "\n",
              "    [theme=dark] .colab-df-convert {\n",
              "      background-color: #3B4455;\n",
              "      fill: #D2E3FC;\n",
              "    }\n",
              "\n",
              "    [theme=dark] .colab-df-convert:hover {\n",
              "      background-color: #434B5C;\n",
              "      box-shadow: 0px 1px 3px 1px rgba(0, 0, 0, 0.15);\n",
              "      filter: drop-shadow(0px 1px 2px rgba(0, 0, 0, 0.3));\n",
              "      fill: #FFFFFF;\n",
              "    }\n",
              "  </style>\n",
              "\n",
              "      <script>\n",
              "        const buttonEl =\n",
              "          document.querySelector('#df-589d36f2-c4ec-4344-97c8-a1bad7b330b8 button.colab-df-convert');\n",
              "        buttonEl.style.display =\n",
              "          google.colab.kernel.accessAllowed ? 'block' : 'none';\n",
              "\n",
              "        async function convertToInteractive(key) {\n",
              "          const element = document.querySelector('#df-589d36f2-c4ec-4344-97c8-a1bad7b330b8');\n",
              "          const dataTable =\n",
              "            await google.colab.kernel.invokeFunction('convertToInteractive',\n",
              "                                                     [key], {});\n",
              "          if (!dataTable) return;\n",
              "\n",
              "          const docLinkHtml = 'Like what you see? Visit the ' +\n",
              "            '<a target=\"_blank\" href=https://colab.research.google.com/notebooks/data_table.ipynb>data table notebook</a>'\n",
              "            + ' to learn more about interactive tables.';\n",
              "          element.innerHTML = '';\n",
              "          dataTable['output_type'] = 'display_data';\n",
              "          await google.colab.output.renderOutput(dataTable, element);\n",
              "          const docLink = document.createElement('div');\n",
              "          docLink.innerHTML = docLinkHtml;\n",
              "          element.appendChild(docLink);\n",
              "        }\n",
              "      </script>\n",
              "    </div>\n",
              "  </div>\n",
              "  "
            ],
            "text/plain": [
              "     id  ... availability_365\n",
              "0  2539  ...              365\n",
              "1  2595  ...              355\n",
              "2  3647  ...              365\n",
              "3  3831  ...              194\n",
              "4  5022  ...                0\n",
              "\n",
              "[5 rows x 16 columns]"
            ]
          },
          "metadata": {},
          "execution_count": 5
        }
      ],
      "source": [
        "#aparencia de la tabla luego de procesarla\n",
        "airbnb.head()"
      ]
    },
    {
      "cell_type": "code",
      "execution_count": 6,
      "metadata": {
        "colab": {
          "base_uri": "https://localhost:8080/"
        },
        "id": "BIGGi0RIcPvQ",
        "outputId": "e191293b-735d-40f2-99c2-7465608204a0"
      },
      "outputs": [
        {
          "output_type": "stream",
          "name": "stdout",
          "text": [
            "<class 'pandas.core.frame.DataFrame'>\n",
            "RangeIndex: 48895 entries, 0 to 48894\n",
            "Data columns (total 16 columns):\n",
            " #   Column                          Non-Null Count  Dtype \n",
            "---  ------                          --------------  ----- \n",
            " 0   id                              48895 non-null  int64 \n",
            " 1   name                            48879 non-null  object\n",
            " 2   host_id                         48894 non-null  object\n",
            " 3   host_name                       48874 non-null  object\n",
            " 4   neighbourhood_group             48895 non-null  object\n",
            " 5   neighbourhood                   48895 non-null  object\n",
            " 6   latitude                        48895 non-null  object\n",
            " 7   longitude                       48895 non-null  object\n",
            " 8   room_type                       48895 non-null  object\n",
            " 9   price                           48895 non-null  object\n",
            " 10  minimum_nights                  48895 non-null  object\n",
            " 11  number_of_reviews               48895 non-null  object\n",
            " 12  last_review                     38857 non-null  object\n",
            " 13  reviews_per_month               38848 non-null  object\n",
            " 14  calculated_host_listings_count  48881 non-null  object\n",
            " 15  availability_365                48890 non-null  object\n",
            "dtypes: int64(1), object(15)\n",
            "memory usage: 6.0+ MB\n"
          ]
        }
      ],
      "source": [
        "airbnb.info() #Acá podemos observar el tipo de dato y la cantidad de registros asociados a cada variable.\n"
      ]
    },
    {
      "cell_type": "code",
      "execution_count": 7,
      "metadata": {
        "colab": {
          "base_uri": "https://localhost:8080/"
        },
        "id": "QX330LP9c9c-",
        "outputId": "2bd93bda-b96f-49da-8933-bfcdd6f27710"
      },
      "outputs": [
        {
          "output_type": "execute_result",
          "data": {
            "text/plain": [
              "Entire home/apt    25378\n",
              "Private room       22287\n",
              "Shared room         1148\n",
              "-7.402.375             1\n",
              "-7.378.175             1\n",
              "                   ...  \n",
              "-7.395.605             1\n",
              "-7.395.361             1\n",
              "-7.395.472             1\n",
              "-73.961                1\n",
              "-739.071               1\n",
              "Name: room_type, Length: 85, dtype: int64"
            ]
          },
          "metadata": {},
          "execution_count": 7
        }
      ],
      "source": [
        "airbnb['room_type'].value_counts() #Se realiza un conteo por tipo de habitacion"
      ]
    },
    {
      "cell_type": "code",
      "execution_count": 8,
      "metadata": {
        "colab": {
          "base_uri": "https://localhost:8080/"
        },
        "id": "99iB9q7fixbS",
        "outputId": "1298eee0-4b36-49a5-ff3b-82519b882741"
      },
      "outputs": [
        {
          "output_type": "execute_result",
          "data": {
            "text/plain": [
              "id                                    0\n",
              "name                                 16\n",
              "host_id                               1\n",
              "host_name                            21\n",
              "neighbourhood_group                   0\n",
              "neighbourhood                         0\n",
              "latitude                              0\n",
              "longitude                             0\n",
              "room_type                             0\n",
              "price                                 0\n",
              "minimum_nights                        0\n",
              "number_of_reviews                     0\n",
              "last_review                       10038\n",
              "reviews_per_month                 10047\n",
              "calculated_host_listings_count       14\n",
              "availability_365                      5\n",
              "dtype: int64"
            ]
          },
          "metadata": {},
          "execution_count": 8
        }
      ],
      "source": [
        "# Print number of missing values\n",
        "airbnb.isna().sum()"
      ]
    },
    {
      "cell_type": "code",
      "execution_count": 9,
      "metadata": {
        "colab": {
          "base_uri": "https://localhost:8080/"
        },
        "id": "tv1B7uNbi6vB",
        "outputId": "b16ef99c-2ae3-4676-adec-84f980ea41ae"
      },
      "outputs": [
        {
          "output_type": "execute_result",
          "data": {
            "text/plain": [
              "array(['Private room', 'Entire home/apt', 'Shared room', 'South Slope',\n",
              "       '-7.391.987', '-7.397.352', '-7.393.635', '-739.863', '-7.392.873',\n",
              "       '-7.398.095', '-7.393.985', '-7.398.337', '-7.393.819',\n",
              "       '-7.391.018', '-7.391.344', '-7.396.811', '-7.399.829',\n",
              "       '-7.393.294', '-739.834', '-7.399.383', '-7.396.671', '-7.396.065',\n",
              "       '-7.395.179', '-7.392.165', '-73.961', '-7.395.472', '-7.395.361',\n",
              "       '-7.395.605', '-7.387.733', '-7.394.098', '-7.392.092',\n",
              "       '-7.400.094', '-7.393.502', '-7.399.238', '4.078.081',\n",
              "       '-7.395.089', '-7.382.617', '-7.393.891', '-7.395.065',\n",
              "       '-7.394.934', '-7.382.737', '-739.533', 'Erin V.', 'Sunnyside',\n",
              "       '-7.394.642', '-7.386.465', '-7.386.435', '-7.386.418',\n",
              "       '-7.389.365', '-7.394.085', '-7.393.828', '4.072.822',\n",
              "       '-7.389.327', '-7.378.275', '-7.394.003', '-7.393.657',\n",
              "       '-7.398.316', '-7.400.763', '-7.391.956', '-7.378.237',\n",
              "       '-7.394.269', '-7.378.175', '4.069.743', '-7.402.375', '-739.074',\n",
              "       '-7.390.256', '-737.823', '4.070.402', '-7.391.996', '-7.396.088',\n",
              "       '-7.387.675', '-7.387.507', '-7.387.639', '4.068.057',\n",
              "       '-7.421.238', '-737.961', '-7.387.698', '-7.392.821', '-7.392.871',\n",
              "       '40.739', '4.073.864', '4.073.913', '4.073.997', '4.078.316',\n",
              "       '-739.071'], dtype=object)"
            ]
          },
          "metadata": {},
          "execution_count": 9
        }
      ],
      "source": [
        "# Encuentra el número de valores únicos en la columna room_type\n",
        "airbnb['room_type'].unique()"
      ]
    },
    {
      "cell_type": "code",
      "execution_count": 10,
      "metadata": {
        "id": "vW_dXMq0_3_o"
      },
      "outputs": [],
      "source": [
        "room_type2= 'room_type'"
      ]
    },
    {
      "cell_type": "code",
      "execution_count": 11,
      "metadata": {
        "id": "tzdtjF3iDF7X"
      },
      "outputs": [],
      "source": [
        "room_type= airbnb[room_type2] = airbnb[room_type2].replace(['Entire home/apt','Private room','Shared room', 'Erin V.','Sunnyside', 'South Slope'],[0,1,2,-1,-2,-3])"
      ]
    },
    {
      "cell_type": "code",
      "execution_count": 12,
      "metadata": {
        "colab": {
          "base_uri": "https://localhost:8080/"
        },
        "id": "wEvjZPKeJL0b",
        "outputId": "b0006599-c99c-437d-de87-76ca2599131e"
      },
      "outputs": [
        {
          "output_type": "execute_result",
          "data": {
            "text/plain": [
              "array([1, 0, 2, -3, '-7.391.987', '-7.397.352', '-7.393.635', '-739.863',\n",
              "       '-7.392.873', '-7.398.095', '-7.393.985', '-7.398.337',\n",
              "       '-7.393.819', '-7.391.018', '-7.391.344', '-7.396.811',\n",
              "       '-7.399.829', '-7.393.294', '-739.834', '-7.399.383', '-7.396.671',\n",
              "       '-7.396.065', '-7.395.179', '-7.392.165', '-73.961', '-7.395.472',\n",
              "       '-7.395.361', '-7.395.605', '-7.387.733', '-7.394.098',\n",
              "       '-7.392.092', '-7.400.094', '-7.393.502', '-7.399.238',\n",
              "       '4.078.081', '-7.395.089', '-7.382.617', '-7.393.891',\n",
              "       '-7.395.065', '-7.394.934', '-7.382.737', '-739.533', -1, -2,\n",
              "       '-7.394.642', '-7.386.465', '-7.386.435', '-7.386.418',\n",
              "       '-7.389.365', '-7.394.085', '-7.393.828', '4.072.822',\n",
              "       '-7.389.327', '-7.378.275', '-7.394.003', '-7.393.657',\n",
              "       '-7.398.316', '-7.400.763', '-7.391.956', '-7.378.237',\n",
              "       '-7.394.269', '-7.378.175', '4.069.743', '-7.402.375', '-739.074',\n",
              "       '-7.390.256', '-737.823', '4.070.402', '-7.391.996', '-7.396.088',\n",
              "       '-7.387.675', '-7.387.507', '-7.387.639', '4.068.057',\n",
              "       '-7.421.238', '-737.961', '-7.387.698', '-7.392.821', '-7.392.871',\n",
              "       '40.739', '4.073.864', '4.073.913', '4.073.997', '4.078.316',\n",
              "       '-739.071'], dtype=object)"
            ]
          },
          "metadata": {},
          "execution_count": 12
        }
      ],
      "source": [
        "airbnb['room_type'].unique()"
      ]
    },
    {
      "cell_type": "markdown",
      "metadata": {
        "id": "KVBKIs5rRhTA"
      },
      "source": [
        "Eliminando **outliers**"
      ]
    },
    {
      "cell_type": "code",
      "execution_count": 13,
      "metadata": {
        "id": "UxygcU6tKyTE"
      },
      "outputs": [],
      "source": [
        "airbnb = airbnb[airbnb['room_type'] !='-7.391.987'] #eliminamos uno por uno los datos atipicos"
      ]
    },
    {
      "cell_type": "code",
      "execution_count": 14,
      "metadata": {
        "id": "oZ_3j44qPImo"
      },
      "outputs": [],
      "source": [
        "airbnb = airbnb[airbnb['room_type'] !='-7.393.635']#eliminamos uno por uno los datos atipicos"
      ]
    },
    {
      "cell_type": "code",
      "execution_count": 15,
      "metadata": {
        "id": "v1X3ADGFQOoX"
      },
      "outputs": [],
      "source": [
        "airbnb = airbnb[airbnb['room_type'] !='-739.863']#eliminamos uno por uno los datos atipicos"
      ]
    },
    {
      "cell_type": "code",
      "execution_count": 16,
      "metadata": {
        "id": "x0mraPz1Rou3"
      },
      "outputs": [],
      "source": [
        "airbnb = airbnb[airbnb['room_type'] !=-3]#eliminamos uno por uno los datos atipicos"
      ]
    },
    {
      "cell_type": "code",
      "execution_count": 17,
      "metadata": {
        "id": "aPzIG9fuR0OG"
      },
      "outputs": [],
      "source": [
        "airbnb = airbnb[airbnb['room_type'] !='-7.398.095']#eliminamos uno por uno los datos atipicos"
      ]
    },
    {
      "cell_type": "code",
      "source": [
        "airbnb = airbnb[airbnb['room_type'] !='-7.393.985']"
      ],
      "metadata": {
        "id": "RGnXhdcIxvXM"
      },
      "execution_count": 18,
      "outputs": []
    },
    {
      "cell_type": "code",
      "source": [
        "airbnb = airbnb[airbnb['room_type'] !='-7.398.337']"
      ],
      "metadata": {
        "id": "WV-zXi95yECw"
      },
      "execution_count": 19,
      "outputs": []
    },
    {
      "cell_type": "code",
      "source": [
        "airbnb = airbnb[airbnb['room_type'] !='-7.393.819']"
      ],
      "metadata": {
        "id": "PBAKLQTdyMvp"
      },
      "execution_count": 20,
      "outputs": []
    },
    {
      "cell_type": "code",
      "source": [
        "airbnb = airbnb[airbnb['room_type'] !='-7.391.018']"
      ],
      "metadata": {
        "id": "G4ttfVlSyVoA"
      },
      "execution_count": 21,
      "outputs": []
    },
    {
      "cell_type": "code",
      "source": [
        "airbnb = airbnb[airbnb['room_type'] !='-7.391.344']"
      ],
      "metadata": {
        "id": "cDEIb8FCydU9"
      },
      "execution_count": 22,
      "outputs": []
    },
    {
      "cell_type": "code",
      "source": [
        "airbnb = airbnb[airbnb['room_type'] !='-7.396.811']"
      ],
      "metadata": {
        "id": "BHEsKviwydbl"
      },
      "execution_count": 23,
      "outputs": []
    },
    {
      "cell_type": "code",
      "source": [
        "airbnb = airbnb[airbnb['room_type'] !='-7.399.829']"
      ],
      "metadata": {
        "id": "z0bq048RyrD9"
      },
      "execution_count": 24,
      "outputs": []
    },
    {
      "cell_type": "code",
      "source": [
        "airbnb = airbnb[airbnb['room_type'] !='-7.393.294']"
      ],
      "metadata": {
        "id": "3oQaOf_NyyrG"
      },
      "execution_count": 25,
      "outputs": []
    },
    {
      "cell_type": "code",
      "source": [
        "airbnb = airbnb[airbnb['room_type'] !='-739.834']"
      ],
      "metadata": {
        "id": "EN603jIny7-_"
      },
      "execution_count": 26,
      "outputs": []
    },
    {
      "cell_type": "code",
      "source": [
        "airbnb = airbnb[airbnb['room_type'] !='-7.399.383']"
      ],
      "metadata": {
        "id": "-5eJElctzD6j"
      },
      "execution_count": 27,
      "outputs": []
    },
    {
      "cell_type": "code",
      "source": [
        "airbnb = airbnb[airbnb['room_type'] !='-7.396.671']"
      ],
      "metadata": {
        "id": "q_o2vbnVzIqI"
      },
      "execution_count": 28,
      "outputs": []
    },
    {
      "cell_type": "code",
      "source": [
        "airbnb = airbnb[airbnb['room_type'] !='-7.396.065']"
      ],
      "metadata": {
        "id": "A6ykq9XjzRWk"
      },
      "execution_count": 29,
      "outputs": []
    },
    {
      "cell_type": "code",
      "source": [
        "airbnb = airbnb[airbnb['room_type'] !='-7.395.179']"
      ],
      "metadata": {
        "id": "tg-YNFHHzW6D"
      },
      "execution_count": 30,
      "outputs": []
    },
    {
      "cell_type": "code",
      "source": [
        "airbnb = airbnb[airbnb['room_type'] !='-7.392.165']"
      ],
      "metadata": {
        "id": "4Nv1yQb-zbxP"
      },
      "execution_count": 31,
      "outputs": []
    },
    {
      "cell_type": "code",
      "source": [
        "airbnb = airbnb[airbnb['room_type'] !='-73.961']"
      ],
      "metadata": {
        "id": "Hg8Iqit5zg_e"
      },
      "execution_count": 32,
      "outputs": []
    },
    {
      "cell_type": "code",
      "source": [
        "airbnb = airbnb[airbnb['room_type'] !='-7.395.472']"
      ],
      "metadata": {
        "id": "A0HHWU3mzl49"
      },
      "execution_count": 33,
      "outputs": []
    },
    {
      "cell_type": "code",
      "source": [
        "airbnb = airbnb[airbnb['room_type'] !='-7.395.361']"
      ],
      "metadata": {
        "id": "Na_hH2VXzrYi"
      },
      "execution_count": 34,
      "outputs": []
    },
    {
      "cell_type": "code",
      "source": [
        "airbnb = airbnb[airbnb['room_type'] !='-7.395.605']"
      ],
      "metadata": {
        "id": "Aw3yyD-4zzGi"
      },
      "execution_count": 35,
      "outputs": []
    },
    {
      "cell_type": "code",
      "source": [
        "airbnb = airbnb[airbnb['room_type'] !='-7.387.733']"
      ],
      "metadata": {
        "id": "7327kGcnz4FZ"
      },
      "execution_count": 36,
      "outputs": []
    },
    {
      "cell_type": "code",
      "source": [
        "airbnb = airbnb[airbnb['room_type'] !='-7.394.098']"
      ],
      "metadata": {
        "id": "qFpqDKiUz9j3"
      },
      "execution_count": 37,
      "outputs": []
    },
    {
      "cell_type": "code",
      "source": [
        "airbnb = airbnb[airbnb['room_type'] !='-7.392.092']"
      ],
      "metadata": {
        "id": "T1KiQOzP0DVu"
      },
      "execution_count": 38,
      "outputs": []
    },
    {
      "cell_type": "code",
      "source": [
        "airbnb = airbnb[airbnb['room_type'] !='-7.400.094']"
      ],
      "metadata": {
        "id": "f5cuoYId0Icg"
      },
      "execution_count": 39,
      "outputs": []
    },
    {
      "cell_type": "code",
      "source": [
        "airbnb = airbnb[airbnb['room_type'] !='-7.393.502']"
      ],
      "metadata": {
        "id": "MH4Ndt050Nh2"
      },
      "execution_count": 40,
      "outputs": []
    },
    {
      "cell_type": "code",
      "source": [
        "airbnb = airbnb[airbnb['room_type'] !='-7.399.238']"
      ],
      "metadata": {
        "id": "_bG8TdZx0Ts4"
      },
      "execution_count": 41,
      "outputs": []
    },
    {
      "cell_type": "code",
      "source": [
        "airbnb = airbnb[airbnb['room_type'] !='4.078.081']"
      ],
      "metadata": {
        "id": "8nrtbW890ZaI"
      },
      "execution_count": 42,
      "outputs": []
    },
    {
      "cell_type": "code",
      "source": [
        "airbnb = airbnb[airbnb['room_type'] !='-7.395.089']"
      ],
      "metadata": {
        "id": "67XiOlph0hPp"
      },
      "execution_count": 43,
      "outputs": []
    },
    {
      "cell_type": "code",
      "source": [
        "airbnb = airbnb[airbnb['room_type'] !='-7.382.617']"
      ],
      "metadata": {
        "id": "k6M0Dx240nxJ"
      },
      "execution_count": 44,
      "outputs": []
    },
    {
      "cell_type": "code",
      "source": [
        "airbnb = airbnb[airbnb['room_type'] !='-7.393.891']"
      ],
      "metadata": {
        "id": "ZqAmJkCT0vfi"
      },
      "execution_count": 45,
      "outputs": []
    },
    {
      "cell_type": "code",
      "source": [
        "airbnb = airbnb[airbnb['room_type'] !='-7.395.065']"
      ],
      "metadata": {
        "id": "qsQ-2Y0b02w8"
      },
      "execution_count": 46,
      "outputs": []
    },
    {
      "cell_type": "code",
      "source": [
        "airbnb = airbnb[airbnb['room_type'] !='-7.394.934']"
      ],
      "metadata": {
        "id": "9ideQXcM0-c-"
      },
      "execution_count": 47,
      "outputs": []
    },
    {
      "cell_type": "code",
      "source": [
        "airbnb = airbnb[airbnb['room_type'] !='-7.382.737']"
      ],
      "metadata": {
        "id": "oagzdH1b1DoM"
      },
      "execution_count": 48,
      "outputs": []
    },
    {
      "cell_type": "code",
      "source": [
        "airbnb = airbnb[airbnb['room_type'] !='-739.533']"
      ],
      "metadata": {
        "id": "bI1lrmue1JY9"
      },
      "execution_count": 49,
      "outputs": []
    },
    {
      "cell_type": "code",
      "source": [
        "airbnb = airbnb[airbnb['room_type'] !='-7.394.642']"
      ],
      "metadata": {
        "id": "F71NX7IS1Wr0"
      },
      "execution_count": 50,
      "outputs": []
    },
    {
      "cell_type": "code",
      "source": [
        "airbnb = airbnb[airbnb['room_type'] !='-7.386.465']"
      ],
      "metadata": {
        "id": "PDuOWWeh1bt0"
      },
      "execution_count": 51,
      "outputs": []
    },
    {
      "cell_type": "code",
      "source": [
        "airbnb = airbnb[airbnb['room_type'] !='-7.386.435']"
      ],
      "metadata": {
        "id": "6F9O9XGc1i5h"
      },
      "execution_count": 52,
      "outputs": []
    },
    {
      "cell_type": "code",
      "source": [
        "airbnb = airbnb[airbnb['room_type'] !='-7.386.418']"
      ],
      "metadata": {
        "id": "1YuNFBJV1qOO"
      },
      "execution_count": 53,
      "outputs": []
    },
    {
      "cell_type": "code",
      "source": [
        "airbnb = airbnb[airbnb['room_type'] !='-1']"
      ],
      "metadata": {
        "id": "3VG7ZPz21wGa"
      },
      "execution_count": 56,
      "outputs": []
    },
    {
      "cell_type": "code",
      "source": [
        "airbnb = airbnb[airbnb['room_type'] !='-2']"
      ],
      "metadata": {
        "id": "5_pnfGbY2sDv"
      },
      "execution_count": 59,
      "outputs": []
    },
    {
      "cell_type": "code",
      "source": [
        "airbnb = airbnb[airbnb['room_type'] !='-7.389.365']"
      ],
      "metadata": {
        "id": "mKsYEEwW3A8G"
      },
      "execution_count": 61,
      "outputs": []
    },
    {
      "cell_type": "code",
      "source": [
        "airbnb = airbnb[airbnb['room_type'] !='-7.394.085']"
      ],
      "metadata": {
        "id": "Ty6zrxUS3Lv6"
      },
      "execution_count": 62,
      "outputs": []
    },
    {
      "cell_type": "code",
      "source": [
        "airbnb = airbnb[airbnb['room_type'] !='-7.393.828']"
      ],
      "metadata": {
        "id": "BonTtFAz3UzN"
      },
      "execution_count": 63,
      "outputs": []
    },
    {
      "cell_type": "code",
      "source": [
        "airbnb = airbnb[airbnb['room_type'] !='4.072.822']"
      ],
      "metadata": {
        "id": "OUuLg25G3cOV"
      },
      "execution_count": 64,
      "outputs": []
    },
    {
      "cell_type": "code",
      "source": [
        "airbnb = airbnb[airbnb['room_type'] !='-7.389.327']"
      ],
      "metadata": {
        "id": "E3RJIW_93iYQ"
      },
      "execution_count": 65,
      "outputs": []
    },
    {
      "cell_type": "code",
      "source": [
        "airbnb = airbnb[airbnb['room_type'] !='-7.378.275']"
      ],
      "metadata": {
        "id": "S4Lk02bO3pqN"
      },
      "execution_count": 66,
      "outputs": []
    },
    {
      "cell_type": "code",
      "source": [
        "airbnb = airbnb[airbnb['room_type'] !='-7.394.003']"
      ],
      "metadata": {
        "id": "cK4NdWMv3vYu"
      },
      "execution_count": 67,
      "outputs": []
    },
    {
      "cell_type": "code",
      "source": [
        "airbnb = airbnb[airbnb['room_type'] !='-7.393.657']"
      ],
      "metadata": {
        "id": "Zf6Gssvi3veM"
      },
      "execution_count": 68,
      "outputs": []
    },
    {
      "cell_type": "code",
      "source": [
        "airbnb = airbnb[airbnb['room_type'] !='-7.398.316']"
      ],
      "metadata": {
        "id": "ACNOGO2j39kH"
      },
      "execution_count": 69,
      "outputs": []
    },
    {
      "cell_type": "code",
      "source": [
        "airbnb = airbnb[airbnb['room_type'] !='-7.400.763']"
      ],
      "metadata": {
        "id": "ds9zxjsR4D9f"
      },
      "execution_count": 70,
      "outputs": []
    },
    {
      "cell_type": "code",
      "source": [
        "airbnb = airbnb[airbnb['room_type'] !='-7.391.956']"
      ],
      "metadata": {
        "id": "sIJfUwSF4Jor"
      },
      "execution_count": 71,
      "outputs": []
    },
    {
      "cell_type": "code",
      "source": [
        "airbnb = airbnb[airbnb['room_type'] !='-7.378.237']"
      ],
      "metadata": {
        "id": "7G9v5bqd4PVn"
      },
      "execution_count": 72,
      "outputs": []
    },
    {
      "cell_type": "code",
      "source": [
        "airbnb = airbnb[airbnb['room_type'] !='-7.394.269']"
      ],
      "metadata": {
        "id": "9-472CMm4Wom"
      },
      "execution_count": 74,
      "outputs": []
    },
    {
      "cell_type": "code",
      "source": [
        "airbnb = airbnb[airbnb['room_type'] !='-7.378.175']"
      ],
      "metadata": {
        "id": "Z6Reyxx24c2p"
      },
      "execution_count": 75,
      "outputs": []
    },
    {
      "cell_type": "code",
      "source": [
        "airbnb = airbnb[airbnb['room_type'] !='4.069.743']"
      ],
      "metadata": {
        "id": "2mCJ3rnd4kIj"
      },
      "execution_count": 76,
      "outputs": []
    },
    {
      "cell_type": "code",
      "source": [
        "airbnb = airbnb[airbnb['room_type'] !='-7.402.375']"
      ],
      "metadata": {
        "id": "Kzq-fmkH4qOe"
      },
      "execution_count": 77,
      "outputs": []
    },
    {
      "cell_type": "code",
      "source": [
        "airbnb = airbnb[airbnb['room_type'] !='-739.074']"
      ],
      "metadata": {
        "id": "-iDvg06t4xmU"
      },
      "execution_count": 78,
      "outputs": []
    },
    {
      "cell_type": "code",
      "source": [
        "airbnb = airbnb[airbnb['room_type'] !='-7.390.256']"
      ],
      "metadata": {
        "id": "bAGC70s548NJ"
      },
      "execution_count": 79,
      "outputs": []
    },
    {
      "cell_type": "code",
      "source": [
        "airbnb = airbnb[airbnb['room_type'] !='-737.823']"
      ],
      "metadata": {
        "id": "H-pq3Zjz5EAz"
      },
      "execution_count": 80,
      "outputs": []
    },
    {
      "cell_type": "code",
      "source": [
        "airbnb = airbnb[airbnb['room_type'] !='4.070.402']"
      ],
      "metadata": {
        "id": "oGg8vxts5KeJ"
      },
      "execution_count": 81,
      "outputs": []
    },
    {
      "cell_type": "code",
      "source": [
        "airbnb = airbnb[airbnb['room_type'] !='-7.391.996']"
      ],
      "metadata": {
        "id": "lrRwYh8U5QqR"
      },
      "execution_count": 82,
      "outputs": []
    },
    {
      "cell_type": "code",
      "source": [
        "airbnb = airbnb[airbnb['room_type'] !='-7.396.088']"
      ],
      "metadata": {
        "id": "SM6dhwQR5WjR"
      },
      "execution_count": 83,
      "outputs": []
    },
    {
      "cell_type": "code",
      "source": [
        "airbnb = airbnb[airbnb['room_type'] !='-7.387.675']"
      ],
      "metadata": {
        "id": "3ibV917c5d-4"
      },
      "execution_count": 84,
      "outputs": []
    },
    {
      "cell_type": "code",
      "source": [
        "airbnb = airbnb[airbnb['room_type'] !='-7.387.507']"
      ],
      "metadata": {
        "id": "_VZdQm1X5kji"
      },
      "execution_count": 85,
      "outputs": []
    },
    {
      "cell_type": "code",
      "source": [
        "airbnb = airbnb[airbnb['room_type'] !='-7.387.639']"
      ],
      "metadata": {
        "id": "WliqqQC15pIf"
      },
      "execution_count": 86,
      "outputs": []
    },
    {
      "cell_type": "code",
      "source": [
        "airbnb = airbnb[airbnb['room_type'] !='4.068.057']"
      ],
      "metadata": {
        "id": "Gr7W5mhH5vag"
      },
      "execution_count": 87,
      "outputs": []
    },
    {
      "cell_type": "code",
      "source": [
        "airbnb = airbnb[airbnb['room_type'] !='-7.421.238']"
      ],
      "metadata": {
        "id": "sGE1pd4Q51sE"
      },
      "execution_count": 88,
      "outputs": []
    },
    {
      "cell_type": "code",
      "source": [
        "airbnb = airbnb[airbnb['room_type'] !='-737.961']"
      ],
      "metadata": {
        "id": "IzvFPuYP51xe"
      },
      "execution_count": 89,
      "outputs": []
    },
    {
      "cell_type": "code",
      "source": [
        "airbnb = airbnb[airbnb['room_type'] !='-7.387.698']"
      ],
      "metadata": {
        "id": "lLmIwueZ6BFi"
      },
      "execution_count": 90,
      "outputs": []
    },
    {
      "cell_type": "code",
      "source": [
        "airbnb = airbnb[airbnb['room_type'] !='-7.392.821']"
      ],
      "metadata": {
        "id": "BTp0amQ36HCn"
      },
      "execution_count": 91,
      "outputs": []
    },
    {
      "cell_type": "code",
      "source": [
        "airbnb = airbnb[airbnb['room_type'] !='-7.392.871']"
      ],
      "metadata": {
        "id": "CSnI0j6l6NSq"
      },
      "execution_count": 92,
      "outputs": []
    },
    {
      "cell_type": "code",
      "source": [
        "airbnb = airbnb[airbnb['room_type'] !='40.739']"
      ],
      "metadata": {
        "id": "nk4dSc6V6UE9"
      },
      "execution_count": 93,
      "outputs": []
    },
    {
      "cell_type": "code",
      "source": [
        "airbnb = airbnb[airbnb['room_type'] !='4.073.864']"
      ],
      "metadata": {
        "id": "oA6zMT106aA1"
      },
      "execution_count": 94,
      "outputs": []
    },
    {
      "cell_type": "code",
      "source": [
        "airbnb = airbnb[airbnb['room_type'] !='4.073.913']"
      ],
      "metadata": {
        "id": "mvlKGfjx6f26"
      },
      "execution_count": 95,
      "outputs": []
    },
    {
      "cell_type": "code",
      "source": [
        "airbnb = airbnb[airbnb['room_type'] !='4.073.997']"
      ],
      "metadata": {
        "id": "nf84FmOR6mm_"
      },
      "execution_count": 96,
      "outputs": []
    },
    {
      "cell_type": "code",
      "source": [
        "airbnb = airbnb[airbnb['room_type'] !='4.078.316']"
      ],
      "metadata": {
        "id": "OMGo80fA6t2j"
      },
      "execution_count": 97,
      "outputs": []
    },
    {
      "cell_type": "code",
      "source": [
        "airbnb = airbnb[airbnb['room_type'] !='-7.397.352']"
      ],
      "metadata": {
        "id": "8qvYKq8p662T"
      },
      "execution_count": 99,
      "outputs": []
    },
    {
      "cell_type": "code",
      "source": [
        "airbnb = airbnb[airbnb['room_type'] !='-739.071']"
      ],
      "metadata": {
        "id": "X7-rQ4937CYZ"
      },
      "execution_count": 101,
      "outputs": []
    },
    {
      "cell_type": "code",
      "source": [
        "airbnb = airbnb[airbnb['room_type'] !='-7.392.873']"
      ],
      "metadata": {
        "id": "6s1CUubD7Hsj"
      },
      "execution_count": 103,
      "outputs": []
    },
    {
      "cell_type": "markdown",
      "metadata": {
        "id": "X-APIGxeSLEW"
      },
      "source": [
        "Verificamos room_type procesada"
      ]
    },
    {
      "cell_type": "code",
      "execution_count": 109,
      "metadata": {
        "colab": {
          "base_uri": "https://localhost:8080/"
        },
        "id": "IUG4xPCILyPD",
        "outputId": "ff2be99b-8b0a-43c1-83b2-3b12e04bf8b9"
      },
      "outputs": [
        {
          "output_type": "execute_result",
          "data": {
            "text/plain": [
              "array([1, 0, 2, -1, -2], dtype=object)"
            ]
          },
          "metadata": {},
          "execution_count": 109
        }
      ],
      "source": [
        "airbnb['room_type'].unique()"
      ]
    }
  ],
  "metadata": {
    "colab": {
      "collapsed_sections": [],
      "name": "Prueba 3.ipynb",
      "provenance": []
    },
    "kernelspec": {
      "display_name": "Python 3",
      "name": "python3"
    },
    "language_info": {
      "name": "python"
    }
  },
  "nbformat": 4,
  "nbformat_minor": 0
}